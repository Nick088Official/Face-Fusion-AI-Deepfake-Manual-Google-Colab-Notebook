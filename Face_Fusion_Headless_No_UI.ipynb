{
  "cells": [
    {
      "cell_type": "markdown",
      "metadata": {
        "id": "view-in-github",
        "colab_type": "text"
      },
      "source": [
        "<a href=\"https://colab.research.google.com/github/Nick088Official/Face-Fusion-Headless-Colab/blob/main/Face_Fusion_Headless_No_UI.ipynb\" target=\"_parent\"><img src=\"https://colab.research.google.com/assets/colab-badge.svg\" alt=\"Open In Colab\"/></a>"
      ]
    },
    {
      "cell_type": "markdown",
      "metadata": {
        "id": "hgVreYca3LcQ"
      },
      "source": [
        "**FACE FUSION MANUAL 2.3.0**"
      ]
    },
    {
      "cell_type": "markdown",
      "metadata": {
        "id": "dMmR69YV3Qfx"
      },
      "source": [
        "DeepFake AI Tool\n",
        "\n",
        "Google Colab Notebook Made By **Nick088**:\n",
        "- [Youtube](https://www.youtube.com/channel/@Nick088Official)\n",
        "- [TikTok](https://www.tiktok.com/@forgotforever)\n",
        "- [Reddit](reddit.com/user/Nick088Real)\n",
        "- [Twitter](https://twitter.com/Nick088Official)\n",
        "- [Discord](https://discord.com/channels/@me/911742715019001897)\n",
        "\n",
        "[English Guide](https://docs.google.com/document/d/1a7kf77DTEMQY_zaElQKr8NEQM9CZiUYUm1yo-iT2YcE/edit?usp=sharing)\n",
        "\n",
        "[Italian Guide](https://docs.google.com/document/d/1kgHNDNnrkcEBasZN81fljy_QEzYE6Xoh-N_vruvHDLw/edit?usp=sharing)"
      ]
    },
    {
      "cell_type": "markdown",
      "source": [],
      "metadata": {
        "id": "eEBaa9ekF1hv"
      }
    },
    {
      "cell_type": "markdown",
      "metadata": {
        "id": "28qKtK7F3bzl"
      },
      "source": [
        "**INSTALL FACE FUSION**"
      ]
    },
    {
      "cell_type": "code",
      "execution_count": null,
      "metadata": {
        "id": "ZlrnUA3i3gMB"
      },
      "outputs": [],
      "source": [
        "!git clone http://tinyurl.com/y8e23w6s --branch 2.3.0 --single-branch\n",
        "!pip install onnxruntime-gpu && pip install -r /content/y8e23w6s/requirements.txt"
      ]
    },
    {
      "cell_type": "markdown",
      "metadata": {
        "id": "vsfWtUCSGrrl"
      },
      "source": [
        "**RUN FACE FUSION**\n",
        "\n",
        "In the following code block below all this text, there are already some useful options choosen, here you can also see all options you can add to the code below before running it:\n",
        "```\n",
        "options:\n",
        "  -s SOURCE_PATHS, --source SOURCE_PATHS                                                                             select a source image\n",
        "  -t TARGET_PATH, --target TARGET_PATH                                                                               select a target image or video\n",
        "  -o OUTPUT_PATH, --output OUTPUT_PATH                                                                               specify the output file or directory\n",
        "\n",
        "misc:\n",
        "  --skip-download                                                                                                    omit automate downloads and lookups\n",
        "  --headless                                                                                                         run the program in headless mode (NO UI)\n",
        "\n",
        "execution:\n",
        "  --execution-providers EXECUTION_PROVIDERS [EXECUTION_PROVIDERS ...]                                                choose from the available execution providers (choices: cpu, cuda, tensorrt, azure)\n",
        "  --execution-thread-count [1-128]                                                                                   specify the number of execution threads\n",
        "  --execution-queue-count [1-32]                                                                                     specify the number of execution queries\n",
        "  --max-memory [0-128]                                                                                               specify the maximum amount of ram to be used (in gb)\n",
        "\n",
        "face analyser:\n",
        "  --face-analyser-order {left-right,right-left,top-bottom,bottom-top,small-large,large-small,best-worst,worst-best}  specify the order used for the face analyser\n",
        "  --face-analyser-age {child,teen,adult,senior}                                                                      specify the age used for the face analyser\n",
        "  --face-analyser-gender {male,female}                                                                               specify the gender used for the face analyser\n",
        "  --face-detector-model {retinaface,yunet}                                                                           specify the model used for the face detector\n",
        "  --face-detector-size {160x160,320x320,480x480,512x512,640x640,768x768,960x960,1024x1024}                           specify the size threshold used for the face detector\n",
        "  --face-detector-score [0.0-1.0]                                                                                    specify the score threshold used for the face detector\n",
        "\n",
        "face selector:\n",
        "  --face-selector-mode {reference,one,many}                                                                          specify the mode for the face selector\n",
        "  --reference-face-position REFERENCE_FACE_POSITION                                                                  specify the position of the reference face\n",
        "  --reference-face-distance [0.0-1.5]                                                                                specify the distance between the reference face and the target face\n",
        "  --reference-frame-number REFERENCE_FRAME_NUMBER                                                                    specify the number of the reference frame\n",
        "\n",
        "face mask:\n",
        "  --face-mask-types FACE_MASK_TYPES [FACE_MASK_TYPES ...]                                                            choose from the available face mask types (choices: box, occlusion, region)\n",
        "  --face-mask-blur [0.0-1.0]                                                                                         specify the blur amount for face mask\n",
        "  --face-mask-padding FACE_MASK_PADDING [FACE_MASK_PADDING ...]                                                      specify the face mask padding (top, right, bottom, left) in percent\n",
        "  --face-mask-regions FACE_MASK_REGIONS [FACE_MASK_REGIONS ...]                                                      choose from the available face mask regions (choices: skin, left-eyebrow, right-eyebrow, left-eye, right-eye, eye-glasses, nose, mouth, upper-lip, lower-lip)\n",
        "\n",
        "frame extraction:\n",
        "  --trim-frame-start TRIM_FRAME_START                                                                                specify the start frame for extraction\n",
        "  --trim-frame-end TRIM_FRAME_END                                                                                    specify the end frame for extraction\n",
        "  --temp-frame-format {jpg,png}                                                                                      specify the image format used for frame extraction\n",
        "  --temp-frame-quality [0-100]                                                                                       specify the image quality used for frame extraction\n",
        "\n",
        "output creation:\n",
        "  --output-image-quality [0-100]                                                                                     specify the quality used for the output image\n",
        "  --output-video-encoder {libx264,libx265,libvpx-vp9,h264_nvenc,hevc_nvenc}                                          specify the encoder used for the output video\n",
        "  --output-video-quality [0-100]                                                                                     specify the quality used for the output video\n",
        "  --keep-fps                                                                                                         preserve the frames per second (fps) of the target\n",
        "  --skip-audio                                                                                                       omit audio from the target\n",
        "\n",
        "frame processors:\n",
        "  --frame-processors FRAME_PROCESSORS [FRAME_PROCESSORS ...]                                                         choose from the available frame processors (choices: face_debugger, face_enhancer, face_swapper, frame_enhancer, ...)\n",
        "  --face-debugger-items FACE_DEBUGGER_ITEMS [FACE_DEBUGGER_ITEMS ...]                                                specify the face debugger items (choices: bbox, kps, face-mask, score)\n",
        "  --face-enhancer-model {codeformer,gfpgan_1.2,gfpgan_1.3,gfpgan_1.4,gpen_bfr_256,gpen_bfr_512,restoreformer}        choose the model for the frame processor\n",
        "  --face-enhancer-blend [0-100]                                                                                      specify the blend amount for the frame processor\n",
        "  --face-swapper-model {blendswap_256,inswapper_128,inswapper_128_fp16,simswap_256,simswap_512_unofficial}           choose the model for the frame processor\n",
        "  --frame-enhancer-model {real_esrgan_x2plus,real_esrgan_x4plus,real_esrnet_x4plus}                                  choose the model for the frame processor\n",
        "  --frame-enhancer-blend [0-100]                                                                                     specify the blend amount for the frame processor\n",
        "  ```"
      ]
    },
    {
      "cell_type": "code",
      "execution_count": null,
      "metadata": {
        "id": "YVHiNI-bb6IA"
      },
      "outputs": [],
      "source": [
        "%cd \"/content/y8e23w6s/\"\n",
        "!python run.py --headless -t \"Target.mp4\" -s \"Source.jpg\" -o \"Output.mp4\" --keep-fps --face-selector-mode many --temp-frame-quality 100 --output-video-quality 100 --output-image-quality 100 --execution-providers cuda tensorrt azure cpu --execution-thread-count 8 --execution-queue-count 1 --face-enhancer-blend 100 --frame-enhancer-blend 100 --frame-processors face_swapper face_enhancer frame_enhancer"
      ]
    }
  ],
  "metadata": {
    "accelerator": "GPU",
    "colab": {
      "provenance": [],
      "include_colab_link": true
    },
    "kernelspec": {
      "display_name": "Python 3",
      "name": "python3"
    },
    "language_info": {
      "name": "python"
    }
  },
  "nbformat": 4,
  "nbformat_minor": 0
}