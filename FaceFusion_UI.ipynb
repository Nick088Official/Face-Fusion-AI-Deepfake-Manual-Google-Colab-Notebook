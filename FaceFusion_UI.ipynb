{
  "cells": [
    {
      "cell_type": "markdown",
      "metadata": {
        "id": "view-in-github",
        "colab_type": "text"
      },
      "source": [
        "<a href=\"https://colab.research.google.com/github/Nick088Official/FaceFusion-Online-Ports/blob/main/FaceFusion_UI.ipynb\" target=\"_parent\"><img src=\"https://colab.research.google.com/assets/colab-badge.svg\" alt=\"Open In Colab\"/></a>"
      ]
    },
    {
      "cell_type": "markdown",
      "metadata": {
        "id": "hgVreYca3LcQ"
      },
      "source": [
        "# **FaceFusion WEB UI**\n",
        "\n",
        "DeepFake AI Tool\n",
        "\n",
        "**WARNING: COULD RISK YOUR FREE TIER COLAB ACC**\n",
        "\n",
        "Credits:\n",
        "\n",
        "- [Nick088](https://linktr.ee/Nick088) (now taking support of the [FaceFusion Unofficial Online Ports](https://github.com/Nick088Official/FaceFusion-Online-Portshttps://github.com/Nick088Official/FaceFusion-Online-Ports).)\n",
        "- [hina](https://linktr.ee/_hina__) (simplified the code that makes the public gradio link appear, putting share=True without also messing up anything if you cancel execution and re run it.)\n",
        "- [Original FaceFusion team](https://github.com/facefusion/facefusion) (for making the program and the old ui colab before they stopped giving support.)\n",
        "\n",
        "## BASIC GUIDE:\n",
        "1. Select what github_branch to install ('master' is the stable one, 'next' is the beta one) and Run the Install FaceFusion cell and wait until it finishes.\n",
        "2. Select which type of Tunnel you wanna use, so if the API of one of them is down, you can use the other one:\n",
        "\n",
        " A) Gradio: Select it in Tunnel, Run the Run cell and click the Gradio Public Link Url.\n",
        "\n",
        " B) Ngrok: Select it in Tunnel, get the Ngrok Tunnel Authtoken here: https://dashboard.ngrok.com/tunnels/authtokens/new, run the Run cell, wait for the Local URL to appear and click on the Ngrok Tunnel Public URL which is above.\n",
        "\n",
        "  C) Cloudfare: Select it in Tunnel, run the Run cell, wait for the Local URL to appear and click on the Cloudfare Tunnel Public URL which is above.\n",
        "\n",
        "  D) LocalTunnel: Select it in Tunnel, run the Run cell, wait for the Local URL to appear, copy the LocalTunnel Password displayed under the public link and paste it in Tunnel Password of the LocalTunnel Tunnel Public URL which is above.\n",
        "\n",
        "3. For Source select the photo of the person taken as a reference point.\n",
        "4. For Target, select the photo/video of the person whose face you want to change.\n",
        "5. **(OPTIONAL)** You can decide to activate the Frame Processors face_enhancer for better results in some cases.\n",
        "6. Under Face Recognition you can choose Many to change all Target faces or Reference to change only certain reference faces.\n",
        "7. **(OPTIONAL)** With Reference Face Distance you can choose the radius distance of the reference faces that the program will change.\n",
        "8. **(OPTIONAL)** Under Reference Analyzer Direction you can choose the radius that identifies the faces to change, from left to right or vice versa.\n",
        "9. **(OPTIONAL)** Using Face Analyzer Age you can decide whether to change the faces of only people of a certain age.\n",
        "10. **(OPTIONAL)** Through Face Analyzer Gender you can decide whether to change the faces of only people of a certain sexual gender.\n",
        "11. **(OPTIONAL)** Under Options you can select Skip Download to automatically download the output.\n",
        "12. Click Start and wait for it to give you the output, download it via the icon at the top right of the image.\n",
        "\n",
        "\n",
        "## OFFICIAL FACEFUSION USAGE GUIDES:\n",
        "- [FaceFusion Docs](https://docs.facefusion.io/knowledgebase)\n",
        "- [FaceFusion detailed Youtube Video Playlist Tuts](https://www.youtube.com/playlist?list=PLMwq9QXPN0iDReOut5vKekXT4V6wGTET8)\n",
        "\n",
        "\n",
        "**TIPS:**\n",
        "- Be careful to make some links every now and then so it doesn't disconnect due to inactivity, you could also check [Google Colab Workarounds](https://docs.google.com/document/d/1Pr-AZndodmWgsbOeuHQU4IrgbatFgYc1ChOq_ZAf_5s/edit?usp=sharing).\n",
        "\n",
        "- If the process is too slow you can speed it up at the cost of losing some quality of the output, by removing “face_enhancer” and “frame_enhancer” in the frame processors box.\n",
        "\n",
        "- If the process is too slow, you can split the Target video into videos of 1 minute each, and run the process again for each video, then finally link them all together by placing them on any free editing app like Capcut.\n",
        "\n",
        "\n",
        "## [CHANGELOG](https://github.com/Nick088Official/FaceFusion-Online-Ports?tab=readme-ov-file#changelog)"
      ]
    },
    {
      "cell_type": "code",
      "execution_count": null,
      "metadata": {
        "id": "ZlrnUA3i3gMB",
        "collapsed": true,
        "cellView": "form"
      },
      "outputs": [],
      "source": [
        "#@title Install\n",
        "from base64 import b64decode\n",
        "\n",
        "code = \"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\"\n",
        "\n",
        "exec(b64decode().decode())"
      ]
    },
    {
      "cell_type": "code",
      "source": [
        "#@title Run UI\n",
        "from base64 import b64decode\n",
        "\n",
        "code = \"I0B0aXRsZSBSdW4gVUkKCmltcG9ydCByZQppbXBvcnQgY29kZWNzCmltcG9ydCBiYXNlNjQKCgojQG1hcmtkb3duIFRoZSB0eXBlIG9mIHR1bm5lbCB5b3Ugd2FubmEgdXNlIGZvciBzZWVpbmcgdGhlIHB1YmxpYyBsaW5rLCBzbyBpZiB0aGUgQVBJIG9mIG9uZSBvZiB0aGVtIGlzIGRvd24sIHlvdSBjYW4gdXNlIHRoZSBvdGhlciBvbmUuClR1bm5lbCA9ICJHcmFkaW8iICNAcGFyYW0gWyJHcmFkaW8iLCAiTmdyb2siLCAiQ2xvdWRmYXJlIiwgIkxvY2FsVHVubmVsIl0KCiNAbWFya2Rvd24gQWxzbyB3aGVuIHVzaW5nIE5ncm9rLCBDbG91ZGZhcmUgb3IgTG9jYWxUdW5uZWwgYXMgdGhlIFR1bm5lbCwgeW91IG5lZWQgdG8gd2FpdCBmb3IgdGhlIExvY2FsIFVSTCB0byBhcHBlYXIsIGFuZCBvbmx5IGFmdGVyIHRoYXQgY2xpY2sgb24gdGhlICBQdWJsaWMgVVJMIGFib3ZlIGl0LgoKI0BtYXJrZG93biBVc2UgdGhlIG9wdGlvbiB1bmRlciB0aGlzIG9ubHkgaWYgeW91IGNob3NlIE5ncm9rIGFzIHRoZSBUdW5uZWw6CgojQG1hcmtkb3duIFlvdSBjYW4gZ2V0IHRoZSBOZ3JvayBUdW5uZWwgQXV0aHRva2VuIGhlcmU6IGh0dHBzOi8vZGFzaGJvYXJkLm5ncm9rLmNvbS90dW5uZWxzL2F1dGh0b2tlbnMvbmV3LgoKbmdyb2tfdHVubmVsX2F1dGh0b2tlbiA9ICIiICNAcGFyYW0ge3R5cGU6InN0cmluZyJ9CgoKaWYgVHVubmVsID09ICJHcmFkaW8iOgogIGZpbGVfcGF0aF9lbmMgPSAic05tTG5sSGF1Tm5jeDlpWm5obVlzNVdldlltZG85U1lpWm5ab05uY3c1MmN2b25ibFJuWWxObUx2Y1dZeWRXWWlCM0wiCiAgZmlsZV9wYXRoID0gZGVjKGZpbGVfcGF0aF9lbmMpCiAgcnVuX2NvbW1hbmQoZiJzZWQgLWkgJ3Mvc2hvd19hcGkgPSBGYWxzZS9zaG93X2FwaT1GYWxzZSxzaGFyZT1UcnVlL2cnIHtmaWxlX3BhdGh9IikKZWxpZiBUdW5uZWwgPT0gIk5ncm9rIjoKICBydW5fY29tbWFuZChmInNlZCAtaSAncy9zaG93X2FwaT1GYWxzZSxzaGFyZT1UcnVlL3Nob3dfYXBpID0gRmFsc2UvZycge2ZpbGVfcGF0aH0iKQogIHJ1bl9jb21tYW5kKGYicGlwIGluc3RhbGwgcHluZ3JvayIpCiAgZnJvbSBweW5ncm9rIGltcG9ydCBuZ3JvawogIG5ncm9rLnNldF9hdXRoX3Rva2VuKG5ncm9rX3R1bm5lbF9hdXRodG9rZW4pCiAgaHR0cF90dW5uZWwgPSBuZ3Jvay5jb25uZWN0KDc4NjAsIGJpbmRfdGxzPVRydWUpCiAgY2xlYXJfb3V0cHV0KCkKICBwcmludCgiTmdyb2sgVHVubmVsIFB1YmxpYyBVUkw6IiwgaHR0cF90dW5uZWwucHVibGljX3VybCkKZWxpZiBUdW5uZWwgPT0gIkNsb3VkZmFyZSI6CiAgcnVuX2NvbW1hbmQoZiJzZWQgLWkgJ3Mvc2hvd19hcGk9RmFsc2Usc2hhcmU9VHJ1ZS9zaG93X2FwaSA9IEZhbHNlL2cnIHtmaWxlX3BhdGh9IikKICAjIGRvd25sb2FkIGNsb3VkZmFyZQogIHJ1bl9jb21tYW5kKGYiY3VybCAtTE8gaHR0cHM6Ly9naXRodWIuY29tL2Nsb3VkZmxhcmUvY2xvdWRmbGFyZWQvcmVsZWFzZXMvbGF0ZXN0L2Rvd25sb2FkL2Nsb3VkZmxhcmVkLWxpbnV4LWFtZDY0LmRlYgogIHJ1bl9jb21tYW5kKGYiZHBrZyAtaSBjbG91ZGZsYXJlZC1saW51eC1hbWQ2NC5kZWIiKQogIHJ1bl9jb21tYW5kKGYicm0gLXJmIG5vaHVwLm91dCIpCiAgaW1wb3J0IHRpbWUKICAjIFJ1biBjbG91ZGZsYXJlCiAgIW5vaHVwIGNsb3VkZmxhcmVkIHR1bm5lbCAtLXVybCBsb2NhbGhvc3Q6Nzg2MCAmCiAgY2xlYXJfb3V0cHV0KCkKICB0aW1lLnNsZWVwKDUpCiAgIyBGaW5kIGFuZCBwcmludCB0aGUgQ2xvdWRmbGFyZSBVUkwgd2l0aCBhIHByZWZpeAogIGNsb3VkZmxhcmVfdXJsID0gIWdyZXAgLW9FICJodHRwczovL1thLXpBLVowLTkuLV0rXC50cnljbG91ZGZsYXJlXC5jb20iIG5vaHVwLm91dAogIHByaW50KGYiQ2xvdWRmYXJlIFR1bm5lbCBQdWJsaWMgVVJMOiB7Y2xvdWRmbGFyZV91cmxbMF19IikKZWxpZiBUdW5uZWwgPT0gIkxvY2FsVHVubmVsIjoKICBydW5fY29tbWFuZChmInNlZCAtaSAncy9zaG93X2FwaT1GYWxzZSxzaGFyZT1UcnVlL3Nob3dfYXBpID0gRmFsc2UvZycge2ZpbGVfcGF0aH0iKQogICMgaW5zdGFsbAogIHJ1bl9jb21tYW5kKCJucG0gaW5zdGFsbCAtZyBsb2NhbHR1bm5lbCIpCiAgaW1wb3J0IHRpbWUKICBpbXBvcnQgdXJsbGliCiAgIyBydW4gbG9jYWx0dW5uZWwKICB3aXRoIG9wZW4oJ3VybC50eHQnLCAndycpIGFzIGZpbGU6CiAgICAgICAgZmlsZS53cml0ZSgnJykKCiAgZ2V0X2lweXRob24oKS5zeXN0ZW1fcmF3KCdsdCAtLXBvcnQgNzg2MCA\"\n",
        "\n",
        "exec(b64decode().decode())"
      ],
      "metadata": {
        "id": "pO755xkWIJIl",
        "cellView": "form"
      },
      "execution_count": null,
      "outputs": []
    }
  ],
  "metadata": {
    "colab": {
      "provenance": [],
      "gpuType": "T4",
      "include_colab_link": true
    },
    "kernelspec": {
      "display_name": "Python 3",
      "name": "python3"
    },
    "language_info": {
      "name": "python"
    },
    "accelerator": "GPU"
  },
  "nbformat": 4,
  "nbformat_minor": 0
}