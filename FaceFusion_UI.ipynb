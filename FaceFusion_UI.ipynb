{
  "cells": [
    {
      "cell_type": "markdown",
      "metadata": {
        "id": "view-in-github",
        "colab_type": "text"
      },
      "source": [
        "<a href=\"https://colab.research.google.com/github/Nick088Official/FaceFusion-Colab-HF-Space/blob/main/FaceFusion_UI.ipynb\" target=\"_parent\"><img src=\"https://colab.research.google.com/assets/colab-badge.svg\" alt=\"Open In Colab\"/></a>"
      ]
    },
    {
      "cell_type": "markdown",
      "metadata": {
        "id": "hgVreYca3LcQ"
      },
      "source": [
        "# **FaceFusion 2.5.1 Gradio WEB UI**\n",
        "\n",
        "DeepFake AI Tool\n",
        "\n",
        "Credits: [Nick088](https://linktr.ee/Nick088) (now taking support unofficially of FaceFusion colabs), [Original FaceFusion team](https://github.com/facefusion/facefusion) (for making the program and the old ui colab before they stopped giving support)\n",
        "\n",
        "**WARNING: COULD RISK YOUR FREE TIER COLAB ACC AS DEEPFAKES AREN'T ALLOWED IN GOOGLE COLAB**\n",
        "\n",
        "## GUIDE:\n",
        "1. Run the Install FaceFusion cell and wait until it finishes\n",
        "2. Run the Run cell, click the public link url.\n",
        "3. For Source select the photo of the person taken as a reference point\n",
        "4. For Target, select the photo/video of the person whose face you want to change\n",
        "5. **(OPTIONAL)** You can decide to activate the Frame Processors face_enhancer for better results in some cases\n",
        "6. Under Face Recognition you can choose Many to change all Target faces or Reference to change only certain reference faces\n",
        "7. **(OPTIONAL)** With Reference Face Distance you can choose the radius distance of the reference faces that the program will change\n",
        "8. **(OPTIONAL)** Under Reference Analyzer Direction you can choose the radius that identifies the faces to change, from left to right or vice versa\n",
        "9. **(OPTIONAL)** Using Face Analyzer Age you can decide whether to change the faces of only people of a certain age\n",
        "10. **(OPTIONAL)** Through Face Analyzer Gender you can decide whether to change the faces of only people of a certain sexual gender\n",
        "11. **(OPTIONAL)** Under Options you can select Skip Download to automatically download the output\n",
        "12. Click Start and wait for it to give you the output, download it via the icon at the top right of the image\n",
        "\n",
        "**TIPS:**\n",
        "- Be careful to make some links every now and then so it doesn't disconnect due to inactivity, you could also check https://rentry.org/colab_workarounds.\n",
        "\n",
        "- If the process is too slow you can speed it up at the cost of losing some quality of the output, by removing “face_enhancer” and “frame_enhancer” in the frame processors box\n",
        "\n",
        "- If the process is too slow, you can split the Target video into videos of 1 minute each, and run the process again for each video, then finally link them all together by placing them on any free editing app like Capcut\n",
        "\n",
        "## CHANGELOG\n",
        "### Update - April 16th, 2024\n",
        "Updated facefusion 2.5.0 to 2.5.1\n",
        "### Update - April 13th, 2024\n",
        "Updated facefusion 2.4.1 to 2.5.0"
      ]
    },
    {
      "cell_type": "code",
      "execution_count": null,
      "metadata": {
        "id": "ZlrnUA3i3gMB",
        "cellView": "form"
      },
      "outputs": [],
      "source": [
        "#@title Install FaceFusion\n",
        "from IPython.display import clear_output\n",
        "import torch\n",
        "\n",
        "if torch.cuda.is_available():\n",
        "  device=\"cuda\"\n",
        "  !apt-get install nvidia-cuda-toolkit\n",
        "  print(\"Using GPU\")\n",
        "else:\n",
        "  device=\"cpu\"\n",
        "  print(\"Using CPU\")\n",
        "\n",
        "!git clone https://tinyurl.com/3dyrb6e7 --branch 2.5.1 --single-branch\n",
        "%cd /content/3dyrb6e7\n",
        "!python install.py --onnxruntime cuda-11.8 --skip-conda\n",
        "\n",
        "clear_output()\n",
        "print(\"Installed!\")"
      ]
    },
    {
      "cell_type": "code",
      "execution_count": null,
      "metadata": {
        "id": "YVHiNI-bb6IA",
        "cellView": "form"
      },
      "outputs": [],
      "source": [
        "#@title Run UI\n",
        "\n",
        "import codecs\n",
        "\n",
        "%cd /content/3dyrb6e7\n",
        "\n",
        "def replace_line_in_file(file_path, line_number, new_line):\n",
        "    try:\n",
        "        # Read the existing file content\n",
        "        with open(file_path, 'r') as file:\n",
        "            lines = file.readlines()\n",
        "\n",
        "        # Check if the line number is valid\n",
        "        if 1 <= line_number <= len(lines):\n",
        "            # Replace the line\n",
        "            lines[line_number - 1] = new_line\n",
        "\n",
        "            # Write the updated content back to the file\n",
        "            with open(file_path, 'w') as file:\n",
        "                file.writelines(lines)\n",
        "            return True\n",
        "        else:\n",
        "            print(f\"Error: Line number {line_number} is out of range.\")\n",
        "            return False\n",
        "    except Exception as e:\n",
        "        print(f\"Error: {str(e)}\")\n",
        "        return False\n",
        "\n",
        "# usage\n",
        "rot13_file_path = \"/pbagrag/3qleo6r7/snprshfvba/hvf/ynlbhgf/qrsnhyg.cl\"\n",
        "file_path = codecs.decode(rot13_file_path, 'rot 13')\n",
        "line_number = 80\n",
        "new_line = \"    ui.queue(concurrency_count = concurrency_count).launch(show_api = False, quiet = True, share = True)\"\n",
        "\n",
        "if replace_line_in_file(file_path, line_number, new_line):\n",
        "    print(f\"Line {line_number} in {file_path} was successfully replaced.\")\n",
        "    clear_output()\n",
        "else:\n",
        "    print(f\"Failed to replace line {line_number} in {file_path}.\")\n",
        "\n",
        "if device==\"cuda\":\n",
        "  !python run.py --execution-providers cpu cuda\n",
        "else:\n",
        "  !python run.py --execution-providers cpu"
      ]
    }
  ],
  "metadata": {
    "accelerator": "GPU",
    "colab": {
      "provenance": [],
      "include_colab_link": true
    },
    "kernelspec": {
      "display_name": "Python",
      "name": "python3"
    },
    "language_info": {
      "name": "python"
    }
  },
  "nbformat": 4,
  "nbformat_minor": 0
}