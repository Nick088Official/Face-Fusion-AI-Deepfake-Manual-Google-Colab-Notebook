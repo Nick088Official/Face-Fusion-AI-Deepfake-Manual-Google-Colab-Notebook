{
  "cells": [
    {
      "cell_type": "markdown",
      "metadata": {
        "id": "hgVreYca3LcQ"
      },
      "source": [
        "# **FaceFusion 2.5.2 Gradio WEB UI**\n",
        "\n",
        "DeepFake AI Tool\n",
        "\n",
        "**WARNING: COULD RISK YOUR FREE TIER COLAB ACC**\n",
        "\n",
        "Credits:\n",
        "\n",
        "- [Nick088](https://linktr.ee/Nick088) (now taking support of the [FaceFusion Unofficial Online Ports](https://github.com/Nick088Official/FaceFusion-Online-Portshttps://github.com/Nick088Official/FaceFusion-Online-Ports))\n",
        "- [hina](https://linktr.ee/_hina__) (simplified the code that makes the public gradio link appear, putting share=True without also messing up anything if you cancel execution and re run it)\n",
        "- [Original FaceFusion team](https://github.com/facefusion/facefusion) (for making the program and the old ui colab before they stopped giving support)\n",
        "\n",
        "## GUIDE:\n",
        "1. Run the Install FaceFusion cell and wait until it finishes\n",
        "2. Run the Run cell, click the Gradio Public Link Url.\n",
        "3. For Source select the photo of the person taken as a reference point\n",
        "4. For Target, select the photo/video of the person whose face you want to change\n",
        "5. **(OPTIONAL)** You can decide to activate the Frame Processors face_enhancer for better results in some cases\n",
        "6. Under Face Recognition you can choose Many to change all Target faces or Reference to change only certain reference faces\n",
        "7. **(OPTIONAL)** With Reference Face Distance you can choose the radius distance of the reference faces that the program will change\n",
        "8. **(OPTIONAL)** Under Reference Analyzer Direction you can choose the radius that identifies the faces to change, from left to right or vice versa\n",
        "9. **(OPTIONAL)** Using Face Analyzer Age you can decide whether to change the faces of only people of a certain age\n",
        "10. **(OPTIONAL)** Through Face Analyzer Gender you can decide whether to change the faces of only people of a certain sexual gender\n",
        "11. **(OPTIONAL)** Under Options you can select Skip Download to automatically download the output\n",
        "12. Click Start and wait for it to give you the output, download it via the icon at the top right of the image\n",
        "\n",
        "**TIPS:**\n",
        "- Be careful to make some links every now and then so it doesn't disconnect due to inactivity, you could also check https://rentry.org/colab_workarounds.\n",
        "\n",
        "- If the process is too slow you can speed it up at the cost of losing some quality of the output, by removing “face_enhancer” and “frame_enhancer” in the frame processors box\n",
        "\n",
        "- If the process is too slow, you can split the Target video into videos of 1 minute each, and run the process again for each video, then finally link them all together by placing them on any free editing app like Capcut\n",
        "\n",
        "## [CHANGELOG](https://github.com/Nick088Official/FaceFusion-Online-Ports?tab=readme-ov-file#changelog)"
      ]
    },
    {
      "cell_type": "code",
      "execution_count": null,
      "metadata": {
        "id": "ZlrnUA3i3gMB",
        "cellView": "form"
      },
      "outputs": [],
      "source": [
        "#@title Install FaceFusion\n",
        "from IPython.display import clear_output\n",
        "import torch\n",
        "\n",
        "if torch.cuda.is_available():\n",
        "  !apt-get install nvidia-cuda-toolkit\n",
        "  device=\"cuda\"\n",
        "  print(\"Using GPU\")\n",
        "else:\n",
        "  device=\"cpu\"\n",
        "  print(\"Using CPU\")\n",
        "\n",
        "!git clone https://tinyurl.com/3dyrb6e7 --branch 2.5.2 --single-branch\n",
        "%cd /content/3dyrb6e7\n",
        "!python install.py --onnxruntime cuda-11.8 --skip-conda\n",
        "\n",
        "clear_output()\n",
        "print(\"Installed!\")"
      ]
    },
    {
      "cell_type": "code",
      "execution_count": null,
      "metadata": {
        "id": "YVHiNI-bb6IA",
        "cellView": "form"
      },
      "outputs": [],
      "source": [
        "#@title Run UI\n",
        "\n",
        "import codecs\n",
        "import re\n",
        "\n",
        "%cd /content/3dyrb6e7\n",
        "\n",
        "file_path_ui_rot13 = \"/pbagrag/3qleo6r7/snprshfvba/hvf/ynlbhgf/qrsnhyg.cl\"\n",
        "\n",
        "file_path_ui = codecs.decode(file_path_ui_rot13, 'rot 13')\n",
        "\n",
        "!sed -i 's/quiet = True/quiet=True,share=True/g' $file_path_ui\n",
        "\n",
        "if device==\"cuda\":\n",
        "  !python run.py --execution-providers cpu cuda\n",
        "else:\n",
        "  !python run.py --execution-providers cpu"
      ]
    }
  ],
  "metadata": {
    "colab": {
      "provenance": []
    },
    "kernelspec": {
      "display_name": "Python 3",
      "name": "python3"
    },
    "language_info": {
      "name": "python"
    }
  },
  "nbformat": 4,
  "nbformat_minor": 0
}