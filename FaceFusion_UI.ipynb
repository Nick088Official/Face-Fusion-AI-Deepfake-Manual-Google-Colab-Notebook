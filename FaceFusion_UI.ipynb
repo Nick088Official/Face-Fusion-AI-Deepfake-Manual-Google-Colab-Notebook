{
  "cells": [
    {
      "cell_type": "markdown",
      "metadata": {
        "id": "view-in-github",
        "colab_type": "text"
      },
      "source": [
        "<a href=\"https://colab.research.google.com/github/Nick088Official/FaceFusion-Colab/blob/main/FaceFusion_UI.ipynb\" target=\"_parent\"><img src=\"https://colab.research.google.com/assets/colab-badge.svg\" alt=\"Open In Colab\"/></a>"
      ]
    },
    {
      "cell_type": "markdown",
      "metadata": {
        "id": "hgVreYca3LcQ"
      },
      "source": [
        "# **FaceFusion 2.4.1 WEB UI**\n",
        "\n",
        "DeepFake AI Tool\n",
        "\n",
        "Google Colab Notebook Made By [Nick088](https://linktr.ee/Nick088)\n",
        "\n",
        "## GUIDE:\n",
        "1. Run the Install cell and wait until it finishes (at the end a red message appears telling you to restart the runtime, don't do it)\n",
        "2. Run Setup cell\n",
        "3. Run the Run cell, a first link will come out that will take you to remote.moe, click it only after it has generated the local link at the end\n",
        "4. For Source select the photo of the person taken as a reference point\n",
        "5. For Target, select the photo/video of the person whose face you want to change\n",
        "6. **(OPTIONAL)** You can decide to activate the Frame Processors face_enhancer for better results in some cases\n",
        "7. Under Face Recognition you can choose Many to change all Target faces or Reference to change only certain reference faces\n",
        "8. **(OPTIONAL)** With Reference Face Distance you can choose the radius distance of the reference faces that the program will change\n",
        "9. **(OPTIONAL)** Under Reference Analyzer Direction you can choose the radius that identifies the faces to change, from left to right or vice versa\n",
        "10. **(OPTIONAL)** Using Face Analyzer Age you can decide whether to change the faces of only people of a certain age\n",
        "11. **(OPTIONAL)** Through Face Analyzer Gender you can decide whether to change the faces of only people of a certain sexual gender\n",
        "12. **(OPTIONAL)** Under Options you can select Skip Download to automatically download the output\n",
        "13. Click Start and wait for it to give you the output, download it via the icon at the top right of the image\n"
      ]
    },
    {
      "cell_type": "code",
      "execution_count": null,
      "metadata": {
        "id": "ZlrnUA3i3gMB",
        "cellView": "form"
      },
      "outputs": [],
      "source": [
        "#@title Install FaceFusion\n",
        "!apt-get install nvidia-cuda-toolkit\n",
        "!git clone https://tinyurl.com/3dyrb6e7 --branch 2.4.1 --single-branch\n",
        "%cd /content/3dyrb6e7\n",
        "!python install.py --onnxruntime cuda-11.8 --skip-venv"
      ]
    },
    {
      "cell_type": "code",
      "execution_count": null,
      "metadata": {
        "id": "YVHiNI-bb6IB",
        "cellView": "form"
      },
      "outputs": [],
      "source": [
        "#@title Setup WEB UI\n",
        "!ssh-keygen -q -t rsa -N '' -f ~/.ssh/id_rsa <<<y\n",
        "!ssh-keyscan -t rsa remote.moe >> ~/.ssh/known_hosts"
      ]
    },
    {
      "cell_type": "code",
      "execution_count": null,
      "metadata": {
        "id": "YVHiNI-bb6IA",
        "cellView": "form"
      },
      "outputs": [],
      "source": [
        "#@title Run UI\n",
        "%cd /content/3dyrb6e7\n",
        "!python run.py --execution-providers cuda & ssh -R 80:127.0.0.1:7860 remote.moe"
      ]
    }
  ],
  "metadata": {
    "accelerator": "GPU",
    "colab": {
      "provenance": [],
      "include_colab_link": true
    },
    "kernelspec": {
      "display_name": "Python",
      "name": "python3"
    },
    "language_info": {
      "name": "python"
    }
  },
  "nbformat": 4,
  "nbformat_minor": 0
}