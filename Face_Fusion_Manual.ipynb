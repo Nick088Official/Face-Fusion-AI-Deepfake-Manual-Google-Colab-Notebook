{
  "cells": [
    {
      "cell_type": "markdown",
      "metadata": {
        "id": "view-in-github",
        "colab_type": "text"
      },
      "source": [
        "<a href=\"https://colab.research.google.com/github/Nick088Official/Face-Fusion-AI-Deepfake-Manual-Google-Colab-Notebook/blob/main/Face_Fusion_Manual.ipynb\" target=\"_parent\"><img src=\"https://colab.research.google.com/assets/colab-badge.svg\" alt=\"Open In Colab\"/></a>"
      ]
    },
    {
      "cell_type": "markdown",
      "metadata": {
        "id": "hgVreYca3LcQ"
      },
      "source": [
        "**FACE FUSION MANUAL 2.0.0**"
      ]
    },
    {
      "cell_type": "markdown",
      "metadata": {
        "id": "dMmR69YV3Qfx"
      },
      "source": [
        "DeepFake AI Tool\n",
        "\n",
        "Google Colab Notebook Made By **Nick088**:\n",
        "- [Youtube](https://www.youtube.com/channel/@Nick088Official)\n",
        "- [TikTok](https://www.tiktok.com/@forgotforever)\n",
        "- [Reddit](reddit.com/user/Nick088Real)\n",
        "- [Twitter](https://twitter.com/Nick088Official)\n",
        "- [Discord](https://discord.com/channels/@me/911742715019001897)\n",
        "\n"
      ]
    },
    {
      "cell_type": "markdown",
      "source": [],
      "metadata": {
        "id": "eEBaa9ekF1hv"
      }
    },
    {
      "cell_type": "markdown",
      "metadata": {
        "id": "28qKtK7F3bzl"
      },
      "source": [
        "**INSTALL FACE FUSION**"
      ]
    },
    {
      "cell_type": "code",
      "execution_count": null,
      "metadata": {
        "id": "ZlrnUA3i3gMB"
      },
      "outputs": [],
      "source": [
        "!git clone https://github.com/facefusion/facefusion --branch 2.0.0 --single-branch\n",
        "!pip install onnxruntime-gpu && pip install -r /content/facefusion/requirements.txt"
      ]
    },
    {
      "cell_type": "markdown",
      "metadata": {
        "id": "vsfWtUCSGrrl"
      },
      "source": [
        "**RUN FACE FUSION**"
      ]
    },
    {
      "cell_type": "code",
      "execution_count": null,
      "metadata": {
        "id": "YVHiNI-bb6IA"
      },
      "outputs": [],
      "source": [
        "%cd \"/content/facefusion/\"\n",
        "!python run.py --headless -t \"Target.mp4\" -s \"Source.jpg\" -o \"/content/facefusion/Output.mp4\" --keep-fps --face-selector-mode many --temp-frame-quality 100 --output-video-quality 100 --output-image-quality 100 --execution-providers azure cpu --execution-thread-count 8 --execution-queue-count 1 --frame-processors face_swapper, face_enhancer, frame_enhancer"
      ]
    }
  ],
  "metadata": {
    "accelerator": "GPU",
    "colab": {
      "provenance": [],
      "include_colab_link": true
    },
    "kernelspec": {
      "display_name": "Python 3",
      "name": "python3"
    },
    "language_info": {
      "name": "python"
    }
  },
  "nbformat": 4,
  "nbformat_minor": 0
}